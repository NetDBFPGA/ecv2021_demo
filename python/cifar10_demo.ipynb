{
 "cells": [
  {
   "cell_type": "code",
   "execution_count": 1,
   "metadata": {},
   "outputs": [
    {
     "data": {
      "application/javascript": [
       "\n",
       "require(['notebook/js/codecell'], function(codecell) {\n",
       "  codecell.CodeCell.options_default.highlight_modes[\n",
       "      'magic_text/x-csrc'] = {'reg':[/^%%microblaze/]};\n",
       "  Jupyter.notebook.events.one('kernel_ready.Kernel', function(){\n",
       "      Jupyter.notebook.get_cells().map(function(cell){\n",
       "          if (cell.cell_type == 'code'){ cell.auto_highlight(); } }) ;\n",
       "  });\n",
       "});\n"
      ]
     },
     "metadata": {},
     "output_type": "display_data"
    },
    {
     "name": "stdout",
     "output_type": "stream",
     "text": [
      "memory allocation...\n",
      "memory allocation...: done\n",
      "memory allocation...\n",
      "memory allocation...: done\n",
      "memory allocation...\n",
      "memory allocation...: done\n",
      "memory allocation...\n",
      "memory allocation...: done\n",
      "memory allocation...\n",
      "memory allocation...: done\n",
      "shape of wgt:  (32, 16, 3, 3)\n",
      "shape of wgt:  (64, 32, 3, 3)\n",
      "shape of wgt:  (64, 64, 3, 3)\n",
      "shape of wgt:  (64, 64, 3, 3)\n",
      "shape of wgt:  (64, 64, 3, 3)\n"
     ]
    }
   ],
   "source": [
    "import os, sys, cv2, time\n",
    "old_stdout = sys.stdout\n",
    "\n",
    "import configparser\n",
    "import numpy as np\n",
    "import matplotlib.pyplot as plt\n",
    "\n",
    "from contextlib import contextmanager\n",
    "from simplenet_cifar10 import *\n",
    "from PIL import Image\n",
    "@contextmanager\n",
    "def silence_stdout():\n",
    "    old_target = sys.stdout\n",
    "    try:\n",
    "        with open(os.devnull, \"w\") as new_target:\n",
    "            sys.stdout = new_target\n",
    "            yield new_target\n",
    "    finally:\n",
    "        sys.stdout = old_target"
   ]
  },
  {
   "cell_type": "code",
   "execution_count": 2,
   "metadata": {},
   "outputs": [
    {
     "data": {
      "image/png": "[encoded data removed]",
      "text/plain": [
       "<matplotlib.figure.Figure at 0x7f7d9512b0>"
      ]
     },
     "metadata": {},
     "output_type": "display_data"
    }
   ],
   "source": [
    "I = Image.open('./files/ship2truck.png')\n",
    "# I = Image.open('./files/plane.png')\n",
    "\n",
    "I = I.convert(\"RGB\")\n",
    "I_array = np.array(I)\n",
    "# I_array = cv2.resize(I_array, (64,64))\n",
    "\n",
    "def imshow(img):\n",
    "    #img = img / 2 + 0.5     # unnormalize\n",
    "    #npimg = img.numpy()\n",
    "    plt.imshow(img)\n",
    "    plt.show()\n",
    "    #return npimg\n",
    "imshow(I_array)"
   ]
  },
  {
   "cell_type": "code",
   "execution_count": 3,
   "metadata": {},
   "outputs": [
    {
     "name": "stdout",
     "output_type": "stream",
     "text": [
      "executing layers...\n",
      "layer 0, IFM size = (32, 32, 3), WGT size = (32, 3, 3, 3), OFM size = (16, 16, 32), time = 0.9567450033500791(ms)\n",
      "layer 1, IFM size = (16, 16, 32), WGT size = (64, 32, 3, 3), OFM size = (8, 8, 64), time = 0.917880970519036(ms)\n",
      "layer 2, IFM size = (8, 8, 64), WGT size = (64, 64, 3, 3), OFM size = (4, 4, 64), time = 0.7614250062033534(ms)\n",
      "layer 3, IFM size = (4, 4, 64), WGT size = (64, 64, 3, 3), OFM size = (2, 2, 64), time = 0.592648983001709(ms)\n",
      "layer 4, IFM size = (2, 2, 64), WGT size = (64, 64, 3, 3), OFM size = (1, 1, 64), time = 0.5812080344185233(ms)\n",
      "layer 5, IFM size = (1, 1, 64), WGT size = (1, 1, 64), OFM size = (1, 1, 64), time = 0.110041000880301(ms)\n",
      "layer 6, IFM size = (1, 1, 64), WGT size = (512, 64), OFM size = (1, 1, 512), time = 0.8193210233002901(ms)\n",
      "layer 7, IFM size = (1, 1, 512), WGT size = (101, 512), OFM size = (1, 1, 101), time = 0.10320101864635944(ms)\n"
     ]
    },
    {
     "data": {
      "text/plain": [
       "'truck'"
      ]
     },
     "execution_count": 3,
     "metadata": {},
     "output_type": "execute_result"
    }
   ],
   "source": [
    "inference(I_array)"
   ]
  },
  {
   "cell_type": "code",
   "execution_count": null,
   "metadata": {},
   "outputs": [],
   "source": [
    "%timeit inference(I_array)"
   ]
  }
 ],
 "metadata": {
  "kernelspec": {
   "display_name": "Python 3",
   "language": "python",
   "name": "python3"
  },
  "language_info": {
   "codemirror_mode": {
    "name": "ipython",
    "version": 3
   },
   "file_extension": ".py",
   "mimetype": "text/x-python",
   "name": "python",
   "nbconvert_exporter": "python",
   "pygments_lexer": "ipython3",
   "version": "3.6.5"
  }
 },
 "nbformat": 4,
 "nbformat_minor": 2
}
