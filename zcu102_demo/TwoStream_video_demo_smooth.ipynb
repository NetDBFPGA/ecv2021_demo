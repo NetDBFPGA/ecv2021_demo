{
 "cells": [
  {
   "cell_type": "markdown",
   "metadata": {},
   "source": [
    "# Demo Video smooth version"
   ]
  },
  {
   "cell_type": "code",
   "execution_count": 1,
   "metadata": {},
   "outputs": [
    {
     "data": {
      "application/javascript": [
       "\n",
       "require(['notebook/js/codecell'], function(codecell) {\n",
       "  codecell.CodeCell.options_default.highlight_modes[\n",
       "      'magic_text/x-csrc'] = {'reg':[/^%%microblaze/]};\n",
       "  Jupyter.notebook.events.one('kernel_ready.Kernel', function(){\n",
       "      Jupyter.notebook.get_cells().map(function(cell){\n",
       "          if (cell.cell_type == 'code'){ cell.auto_highlight(); } }) ;\n",
       "  });\n",
       "});\n"
      ]
     },
     "metadata": {},
     "output_type": "display_data"
    }
   ],
   "source": [
    "from LK_optical_flow.utils import showarray\n",
    "from two_stream import Two_stream\n",
    "\n",
    "import os, sys, cv2, time\n",
    "old_stdout = sys.stdout\n",
    "\n",
    "import configparser\n",
    "import numpy as np\n",
    "\n",
    "from contextlib import contextmanager\n",
    "\n",
    "@contextmanager\n",
    "def silence_stdout():\n",
    "    old_target = sys.stdout\n",
    "    try:\n",
    "        with open(os.devnull, \"w\") as new_target:\n",
    "            sys.stdout = new_target\n",
    "            yield new_target\n",
    "    finally:\n",
    "        sys.stdout = old_target\n",
    "        "
   ]
  },
  {
   "cell_type": "code",
   "execution_count": 2,
   "metadata": {},
   "outputs": [],
   "source": [
    "## configs\n",
    "config = configparser.ConfigParser()\n",
    "config.read('./files/config.config')\n",
    "\n",
    "size = (ch,h,w) = (config['OpticalFlow']['channel'],\n",
    "                   int(config['DataConfig']['image_height']),int(config['DataConfig']['image_width'])) #(20,256,256)\n",
    "\n",
    "fps_list = []\n",
    "start,end,sec = 0,0,1e-4"
   ]
  },
  {
   "cell_type": "code",
   "execution_count": 3,
   "metadata": {},
   "outputs": [],
   "source": [
    "import ctypes\n",
    "import numpy as np\n",
    "import multiprocessing as mp\n",
    "\n",
    "from multiprocessing import Process\n",
    "\n",
    "def action_recogn_job(curr_frame, prev_frame, output):\n",
    "    global two_stream\n",
    "    \n",
    "    with silence_stdout():\n",
    "        output[:] = two_stream(curr_frame, prev_frame)\n",
    "\n",
    "output = mp.Array(ctypes.c_float, 101)\n",
    "ps_two_stream = None #Process(target=self.spatial_job, args=(input_frame, 0))\n"
   ]
  },
  {
   "cell_type": "code",
   "execution_count": 4,
   "metadata": {},
   "outputs": [
    {
     "name": "stdout",
     "output_type": "stream",
     "text": [
      "\t[Info] buff depth 65536\n",
      "\t[Info] buff depth 131072\n",
      "\t[Info] buff depth 131072\n",
      "memory allocation...\n",
      "memory allocation...: done\n",
      "\t[Info] buff depth 131072\n",
      "memory allocation...\n",
      "memory allocation...: done\n",
      "\t[Info] buff depth 131072\n",
      "memory allocation...\n",
      "memory allocation...: done\n",
      "\t[Info] buff depth 131072\n",
      "memory allocation...\n",
      "memory allocation...: done\n",
      "\t[Info] buff depth 131072\n",
      "memory allocation...\n",
      "memory allocation...: done\n",
      "\t[Info] buff depth 131072\n",
      "\t[Info] buff depth 131072\n",
      "\t[Info] buff depth 131072\n",
      "\t[Info] buff depth 65536\n",
      "shape of wgt:  (32, 16, 3, 3)\n",
      "shape of wgt:  (64, 32, 3, 3)\n",
      "shape of wgt:  (64, 64, 3, 3)\n",
      "shape of wgt:  (64, 64, 3, 3)\n",
      "shape of wgt:  (64, 64, 3, 3)\n",
      "\t[Info] buff depth 131072\n",
      "memory allocation...\n",
      "memory allocation...: done\n",
      "\t[Info] buff depth 131072\n",
      "memory allocation...\n",
      "memory allocation...: done\n",
      "\t[Info] buff depth 131072\n",
      "memory allocation...\n",
      "memory allocation...: done\n",
      "\t[Info] buff depth 131072\n",
      "memory allocation...\n",
      "memory allocation...: done\n",
      "\t[Info] buff depth 131072\n",
      "memory allocation...\n",
      "memory allocation...: done\n",
      "\t[Info] buff depth 131072\n",
      "\t[Info] buff depth 131072\n",
      "\t[Info] buff depth 131072\n",
      "\t[Info] buff depth 131072\n",
      "shape of wgt:  (32, 32, 3, 3)\n",
      "shape of wgt:  (64, 32, 3, 3)\n",
      "shape of wgt:  (64, 64, 3, 3)\n",
      "shape of wgt:  (64, 64, 3, 3)\n",
      "shape of wgt:  (64, 64, 3, 3)\n"
     ]
    }
   ],
   "source": [
    "two_stream = Two_stream('./files/config.config')"
   ]
  },
  {
   "cell_type": "code",
   "execution_count": 5,
   "metadata": {
    "scrolled": true
   },
   "outputs": [],
   "source": [
    "delay_list = []\n",
    "def demo(video_path='LK_optical_flow/files/Big.Buck.Bunny.mp4'):\n",
    "    global sec, output, ps_two_stream, h, w\n",
    "    \n",
    "    # put demo video\n",
    "    cap = cv2.VideoCapture(video_path)\n",
    "\n",
    "    prev_frame = np.zeros((h,w,3)).astype(np.uint8)\n",
    "    prev_frame_gray = np.zeros((h,w)).astype(np.uint8)\n",
    "    while(True):\n",
    "        start = time.time()\n",
    "\n",
    "        ret,frame = cap.read()\n",
    "        if ret:            \n",
    "            curr_frame = cv2.resize(frame, (h, w))\n",
    "            curr_frame = cv2.cvtColor(curr_frame, cv2.COLOR_BGR2RGB)\n",
    "            curr_frame_gray = cv2.cvtColor(curr_frame, cv2.COLOR_RGB2GRAY)\n",
    "            \n",
    "            start = time.time()\n",
    "            \n",
    "            # luccas kannade , fbank\n",
    "            vx,vy = two_stream.lucas_kanade_acc.compute(prev_frame_gray, curr_frame_gray)\n",
    "            \n",
    "            end = time.time()\n",
    "            delay_list.append(end-start)\n",
    "            \n",
    "            two_stream.feature_bank.push(vx,vy)\n",
    "            \n",
    "#             action_recogn_job(curr_frame, prev_frame, output)\n",
    "            if ps_two_stream==None or not ps_two_stream.is_alive():\n",
    "                ps_two_stream = Process(target=action_recogn_job, args=(curr_frame, prev_frame, output))\n",
    "                ps_two_stream.start()\n",
    "\n",
    "            ## class \n",
    "            k = 3\n",
    "            pred_action = np.argpartition(np.array(output), -k)[-k:]+1 #top-k\n",
    "\n",
    "            prev_frame = curr_frame\n",
    "            prev_frame_gray = curr_frame_gray\n",
    "\n",
    "            ####################\n",
    "            ##### just show ####\n",
    "            vx = np.expand_dims(vx, axis=2)\n",
    "            vy = np.expand_dims(vy, axis=2)\n",
    "            #vv = np.sqrt((vx**2+vy**2))\n",
    "            vv = np.zeros((h,w,1))\n",
    "            v = np.concatenate((vv,vx,vy),axis=2).astype(np.uint8)\n",
    "            \n",
    "            gt = video_path[video_path.find(\"v_\")+2:video_path.find(\"_g\")]\n",
    "            showarray(np.concatenate((curr_frame,v),axis=1), 1/sec, topk=pred_action, gt=gt)\n",
    "            ####################\n",
    "            #showarray(curr_frame, 1/sec, show_meta=False)\n",
    "        else:\n",
    "            break\n",
    "\n",
    "        end = time.time()\n",
    "        sec = end-start\n",
    "        fps_list.append(1/sec)\n",
    "        #print(sec)\n",
    "\n",
    "    print(f\"avg fps:{sum(fps_list)/len(fps_list)}\")\n"
   ]
  },
  {
   "cell_type": "code",
   "execution_count": 7,
   "metadata": {
    "scrolled": true
   },
   "outputs": [
    {
     "data": {
      "image/jpeg": "[encoded data removed]",
      "text/plain": [
       "<IPython.core.display.Image object>"
      ]
     },
     "metadata": {},
     "output_type": "display_data"
    },
    {
     "name": "stderr",
     "output_type": "stream",
     "text": [
      "Process Process-2313:\n",
      "Traceback (most recent call last):\n",
      "  File \"/usr/lib/python3.6/multiprocessing/process.py\", line 258, in _bootstrap\n",
      "    self.run()\n",
      "  File \"/usr/lib/python3.6/multiprocessing/process.py\", line 93, in run\n",
      "    self._target(*self._args, **self._kwargs)\n",
      "  File \"<ipython-input-3-5313a6d64bf1>\", line 10, in action_recogn_job\n",
      "    with silence_stdout():\n",
      "  File \"/usr/lib/python3.6/contextlib.py\", line 81, in __enter__\n",
      "    return next(self.gen)\n",
      "  File \"<ipython-input-1-8d74bcda5478>\", line 16, in silence_stdout\n",
      "    with open(os.devnull, \"w\") as new_target:\n",
      "KeyboardInterrupt\n"
     ]
    },
    {
     "ename": "KeyboardInterrupt",
     "evalue": "",
     "output_type": "error",
     "traceback": [
      "\u001b[0;31m---------------------------------------------------------------------------\u001b[0m",
      "\u001b[0;31mKeyboardInterrupt\u001b[0m                         Traceback (most recent call last)",
      "\u001b[0;32m<ipython-input-7-9965208de81b>\u001b[0m in \u001b[0;36m<module>\u001b[0;34m()\u001b[0m\n\u001b[1;32m     14\u001b[0m \u001b[0;34m\u001b[0m\u001b[0m\n\u001b[1;32m     15\u001b[0m \u001b[0;32mfor\u001b[0m \u001b[0mvd\u001b[0m \u001b[0;32min\u001b[0m \u001b[0mvideo_candidate1\u001b[0m\u001b[0;34m:\u001b[0m\u001b[0;34m\u001b[0m\u001b[0m\n\u001b[0;32m---> 16\u001b[0;31m     \u001b[0mdemo\u001b[0m\u001b[0;34m(\u001b[0m\u001b[0mvd\u001b[0m\u001b[0;34m)\u001b[0m\u001b[0;34m\u001b[0m\u001b[0m\n\u001b[0m",
      "\u001b[0;32m<ipython-input-5-883027f453d7>\u001b[0m in \u001b[0;36mdemo\u001b[0;34m(video_path)\u001b[0m\n\u001b[1;32m     34\u001b[0m             \u001b[0;31m## class\u001b[0m\u001b[0;34m\u001b[0m\u001b[0;34m\u001b[0m\u001b[0m\n\u001b[1;32m     35\u001b[0m             \u001b[0mk\u001b[0m \u001b[0;34m=\u001b[0m \u001b[0;36m3\u001b[0m\u001b[0;34m\u001b[0m\u001b[0m\n\u001b[0;32m---> 36\u001b[0;31m             \u001b[0mpred_action\u001b[0m \u001b[0;34m=\u001b[0m \u001b[0mnp\u001b[0m\u001b[0;34m.\u001b[0m\u001b[0margpartition\u001b[0m\u001b[0;34m(\u001b[0m\u001b[0mnp\u001b[0m\u001b[0;34m.\u001b[0m\u001b[0marray\u001b[0m\u001b[0;34m(\u001b[0m\u001b[0moutput\u001b[0m\u001b[0;34m)\u001b[0m\u001b[0;34m,\u001b[0m \u001b[0;34m-\u001b[0m\u001b[0mk\u001b[0m\u001b[0;34m)\u001b[0m\u001b[0;34m[\u001b[0m\u001b[0;34m-\u001b[0m\u001b[0mk\u001b[0m\u001b[0;34m:\u001b[0m\u001b[0;34m]\u001b[0m\u001b[0;34m+\u001b[0m\u001b[0;36m1\u001b[0m \u001b[0;31m#top-k\u001b[0m\u001b[0;34m\u001b[0m\u001b[0m\n\u001b[0m\u001b[1;32m     37\u001b[0m \u001b[0;34m\u001b[0m\u001b[0m\n\u001b[1;32m     38\u001b[0m             \u001b[0mprev_frame\u001b[0m \u001b[0;34m=\u001b[0m \u001b[0mcurr_frame\u001b[0m\u001b[0;34m\u001b[0m\u001b[0m\n",
      "\u001b[0;32m/usr/lib/python3.6/multiprocessing/sharedctypes.py\u001b[0m in \u001b[0;36m__getitem__\u001b[0;34m(self, i)\u001b[0m\n\u001b[1;32m    219\u001b[0m \u001b[0;34m\u001b[0m\u001b[0m\n\u001b[1;32m    220\u001b[0m     \u001b[0;32mdef\u001b[0m \u001b[0m__getitem__\u001b[0m\u001b[0;34m(\u001b[0m\u001b[0mself\u001b[0m\u001b[0;34m,\u001b[0m \u001b[0mi\u001b[0m\u001b[0;34m)\u001b[0m\u001b[0;34m:\u001b[0m\u001b[0;34m\u001b[0m\u001b[0m\n\u001b[0;32m--> 221\u001b[0;31m         \u001b[0;32mwith\u001b[0m \u001b[0mself\u001b[0m\u001b[0;34m:\u001b[0m\u001b[0;34m\u001b[0m\u001b[0m\n\u001b[0m\u001b[1;32m    222\u001b[0m             \u001b[0;32mreturn\u001b[0m \u001b[0mself\u001b[0m\u001b[0;34m.\u001b[0m\u001b[0m_obj\u001b[0m\u001b[0;34m[\u001b[0m\u001b[0mi\u001b[0m\u001b[0;34m]\u001b[0m\u001b[0;34m\u001b[0m\u001b[0m\n\u001b[1;32m    223\u001b[0m \u001b[0;34m\u001b[0m\u001b[0m\n",
      "\u001b[0;32m/usr/lib/python3.6/multiprocessing/sharedctypes.py\u001b[0m in \u001b[0;36m__enter__\u001b[0;34m(self)\u001b[0m\n\u001b[1;32m    190\u001b[0m \u001b[0;34m\u001b[0m\u001b[0m\n\u001b[1;32m    191\u001b[0m     \u001b[0;32mdef\u001b[0m \u001b[0m__enter__\u001b[0m\u001b[0;34m(\u001b[0m\u001b[0mself\u001b[0m\u001b[0;34m)\u001b[0m\u001b[0;34m:\u001b[0m\u001b[0;34m\u001b[0m\u001b[0m\n\u001b[0;32m--> 192\u001b[0;31m         \u001b[0;32mreturn\u001b[0m \u001b[0mself\u001b[0m\u001b[0;34m.\u001b[0m\u001b[0m_lock\u001b[0m\u001b[0;34m.\u001b[0m\u001b[0m__enter__\u001b[0m\u001b[0;34m(\u001b[0m\u001b[0;34m)\u001b[0m\u001b[0;34m\u001b[0m\u001b[0m\n\u001b[0m\u001b[1;32m    193\u001b[0m \u001b[0;34m\u001b[0m\u001b[0m\n\u001b[1;32m    194\u001b[0m     \u001b[0;32mdef\u001b[0m \u001b[0m__exit__\u001b[0m\u001b[0;34m(\u001b[0m\u001b[0mself\u001b[0m\u001b[0;34m,\u001b[0m \u001b[0;34m*\u001b[0m\u001b[0margs\u001b[0m\u001b[0;34m)\u001b[0m\u001b[0;34m:\u001b[0m\u001b[0;34m\u001b[0m\u001b[0m\n",
      "\u001b[0;32m/usr/lib/python3.6/multiprocessing/synchronize.py\u001b[0m in \u001b[0;36m__enter__\u001b[0;34m(self)\u001b[0m\n\u001b[1;32m     94\u001b[0m \u001b[0;34m\u001b[0m\u001b[0m\n\u001b[1;32m     95\u001b[0m     \u001b[0;32mdef\u001b[0m \u001b[0m__enter__\u001b[0m\u001b[0;34m(\u001b[0m\u001b[0mself\u001b[0m\u001b[0;34m)\u001b[0m\u001b[0;34m:\u001b[0m\u001b[0;34m\u001b[0m\u001b[0m\n\u001b[0;32m---> 96\u001b[0;31m         \u001b[0;32mreturn\u001b[0m \u001b[0mself\u001b[0m\u001b[0;34m.\u001b[0m\u001b[0m_semlock\u001b[0m\u001b[0;34m.\u001b[0m\u001b[0m__enter__\u001b[0m\u001b[0;34m(\u001b[0m\u001b[0;34m)\u001b[0m\u001b[0;34m\u001b[0m\u001b[0m\n\u001b[0m\u001b[1;32m     97\u001b[0m \u001b[0;34m\u001b[0m\u001b[0m\n\u001b[1;32m     98\u001b[0m     \u001b[0;32mdef\u001b[0m \u001b[0m__exit__\u001b[0m\u001b[0;34m(\u001b[0m\u001b[0mself\u001b[0m\u001b[0;34m,\u001b[0m \u001b[0;34m*\u001b[0m\u001b[0margs\u001b[0m\u001b[0;34m)\u001b[0m\u001b[0;34m:\u001b[0m\u001b[0;34m\u001b[0m\u001b[0m\n",
      "\u001b[0;31mKeyboardInterrupt\u001b[0m: "
     ]
    }
   ],
   "source": [
    "import random\n",
    "import glob\n",
    "\n",
    "\n",
    "# video_candidate0 = ['LK_optical_flow/files/v_BaseballPitch_g17_c05.avi',\n",
    "#                     'LK_optical_flow/files/v_BaseballPitch_g17_c01.avi',\n",
    "#                    'LK_optical_flow/files/v_BaseballPitch_g17_c02.avi',\n",
    "#                    'LK_optical_flow/files/v_BaseballPitch_g17_c03.avi']\n",
    "# for vd in video_candidate0:\n",
    "#     demo(vd)\n",
    "    \n",
    "video_candidate1 = glob.glob('LK_optical_flow/files/*.avi')\n",
    "random.shuffle(video_candidate1)\n",
    "\n",
    "for vd in video_candidate1:\n",
    "    demo(vd)\n"
   ]
  },
  {
   "cell_type": "code",
   "execution_count": null,
   "metadata": {},
   "outputs": [],
   "source": [
    " sum(delay_list)/len(delay_list)"
   ]
  },
  {
   "cell_type": "code",
   "execution_count": null,
   "metadata": {},
   "outputs": [],
   "source": []
  },
  {
   "cell_type": "code",
   "execution_count": null,
   "metadata": {},
   "outputs": [],
   "source": []
  },
  {
   "cell_type": "code",
   "execution_count": null,
   "metadata": {},
   "outputs": [],
   "source": []
  },
  {
   "cell_type": "code",
   "execution_count": null,
   "metadata": {},
   "outputs": [],
   "source": [
    "import matplotlib.pyplot as plt\n",
    "%matplotlib inline\n",
    "\n",
    "y = np.array([4.633, 119, 3.58, 0.000151, 193, 11.57])/1000\n",
    "x_label = ['frame_preprocess','spatial_cnn','luccas_kanade','fbank_addr','temporal_cnn','render']\n",
    "x_color = ['red','blue','green','green','green','red']\n",
    "\n",
    "plt.ylabel('sec',fontsize=16)\n",
    "plt.xlabel('component',fontsize=16)\n",
    "plt.xticks(np.arange(len(y)), x_label, rotation=45, fontsize=14)\n",
    "plt.xticks(fontsize=14)\n",
    "\n",
    "for ticklabel, tickcolor in zip(plt.gca().get_xticklabels(), x_color):\n",
    "    ticklabel.set_color(tickcolor)\n",
    "\n",
    "plt.bar(range(len(y)),y, color=x_color)\n",
    "\n",
    "plt.show()\n"
   ]
  },
  {
   "cell_type": "code",
   "execution_count": null,
   "metadata": {},
   "outputs": [],
   "source": []
  },
  {
   "cell_type": "code",
   "execution_count": null,
   "metadata": {},
   "outputs": [],
   "source": []
  },
  {
   "cell_type": "code",
   "execution_count": null,
   "metadata": {},
   "outputs": [],
   "source": []
  },
  {
   "cell_type": "code",
   "execution_count": null,
   "metadata": {},
   "outputs": [],
   "source": []
  },
  {
   "cell_type": "code",
   "execution_count": null,
   "metadata": {},
   "outputs": [],
   "source": []
  },
  {
   "cell_type": "code",
   "execution_count": null,
   "metadata": {},
   "outputs": [],
   "source": []
  },
  {
   "cell_type": "code",
   "execution_count": null,
   "metadata": {},
   "outputs": [],
   "source": []
  }
 ],
 "metadata": {
  "kernelspec": {
   "display_name": "Python 3",
   "language": "python",
   "name": "python3"
  },
  "language_info": {
   "codemirror_mode": {
    "name": "ipython",
    "version": 3
   },
   "file_extension": ".py",
   "mimetype": "text/x-python",
   "name": "python",
   "nbconvert_exporter": "python",
   "pygments_lexer": "ipython3",
   "version": "3.6.5"
  }
 },
 "nbformat": 4,
 "nbformat_minor": 2
}
